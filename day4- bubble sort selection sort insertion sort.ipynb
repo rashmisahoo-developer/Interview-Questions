{
 "cells": [
  {
   "cell_type": "markdown",
   "metadata": {},
   "source": [
    "<h1>selection sort</h1>"
   ]
  },
  {
   "cell_type": "code",
   "execution_count": 6,
   "metadata": {},
   "outputs": [
    {
     "name": "stdout",
     "output_type": "stream",
     "text": [
      "Sorted array \n",
      " [1, 2, 2, 2, 2, 3, 4, 5, 5, 6, 6]\n"
     ]
    }
   ],
   "source": [
    "def selectionSort(a,n):\n",
    "    for i in range(n):\n",
    "        min=i\n",
    "        for j in range(i+1,n):\n",
    "            if a[min]>a[j]:\n",
    "                min=j\n",
    "        a[i],a[min]=a[min],a[i]\n",
    "    return a\n",
    "a=[2,3,5,2,5,2,6,1,4,2,6]\n",
    "print(\"Sorted array \\n\",selectionSort(a,len(a)))\n"
   ]
  },
  {
   "cell_type": "markdown",
   "metadata": {},
   "source": [
    "<h1>Insertion sort</h1>"
   ]
  },
  {
   "cell_type": "code",
   "execution_count": 7,
   "metadata": {},
   "outputs": [
    {
     "name": "stdout",
     "output_type": "stream",
     "text": [
      "Sorted array \n",
      " [1, 2, 2, 2, 2, 3, 4, 5, 5, 6, 6]\n"
     ]
    }
   ],
   "source": [
    "def insertionSort(arr,n):\n",
    "    for i in range(1,len(arr)):\n",
    "        min=arr[i]\n",
    "        j=i-1\n",
    "        while j>0 and min<arr[j]:\n",
    "            arr[j+1]=arr[j]\n",
    "            j-=1\n",
    "        arr[j+1]=min\n",
    "    return arr\n",
    "a=[2,3,5,2,5,2,6,1,4,2,6]\n",
    "print(\"Sorted array \\n\",selectionSort(a,len(a)))"
   ]
  },
  {
   "cell_type": "markdown",
   "metadata": {},
   "source": [
    "<h1>Quick Sort</h1>"
   ]
  },
  {
   "cell_type": "code",
   "execution_count": 11,
   "metadata": {},
   "outputs": [
    {
     "name": "stdout",
     "output_type": "stream",
     "text": [
      "[2, 2, 2, 3, 3, 4, 4, 5, 10]\n"
     ]
    }
   ],
   "source": [
    "def partition(arr,l,h):\n",
    "    pivot=arr[h]\n",
    "    i=l-1\n",
    "    for j in range(l,h):\n",
    "        if arr[j]<=pivot:\n",
    "            i=i+1\n",
    "            arr[i],arr[j]=arr[j],arr[i]\n",
    "\n",
    "    arr[i+1],arr[h]=arr[h],arr[i+1]\n",
    "    return i+1\n",
    "\n",
    "def quick_sort(arr,l,h):\n",
    "    if l<h:\n",
    "        pi=partition(arr,l,h)\n",
    "        quick_sort(arr,l,pi-1)\n",
    "        quick_sort(arr,pi+1,h)\n",
    "    return arr\n",
    "\n",
    "arr=[10,2,4,2,3,5,3,2,4]\n",
    "print(quick_sort(arr,0,len(arr)-1))"
   ]
  },
  {
   "cell_type": "markdown",
   "metadata": {},
   "source": [
    "<h1>Bubble Sort</h1>\n"
   ]
  },
  {
   "cell_type": "code",
   "execution_count": 13,
   "metadata": {},
   "outputs": [
    {
     "name": "stdout",
     "output_type": "stream",
     "text": [
      "[2, 2, 3, 4, 4, 5, 6, 6, 6, 7, 8, 8]\n"
     ]
    }
   ],
   "source": [
    "def bubbleSort(arr,n):\n",
    "    for i in range(n):\n",
    "        for j in range(0,n-i-1):\n",
    "            if arr[j]>arr[j+1]:\n",
    "                arr[j],arr[j+1]=arr[j+1],arr[j]\n",
    "    return arr\n",
    "arr=[4,3,6,2,7,6,4,8,5,2,6,8]\n",
    "print(bubbleSort(arr,len(arr)))"
   ]
  }
 ],
 "metadata": {
  "interpreter": {
   "hash": "27370861859459cc3c5e32c9e2dc0d045b42d9dd1d29e25ced1db4516fdee47b"
  },
  "kernelspec": {
   "display_name": "Python 3.9.10 64-bit",
   "language": "python",
   "name": "python3"
  },
  "language_info": {
   "codemirror_mode": {
    "name": "ipython",
    "version": 3
   },
   "file_extension": ".py",
   "mimetype": "text/x-python",
   "name": "python",
   "nbconvert_exporter": "python",
   "pygments_lexer": "ipython3",
   "version": "3.9.10"
  },
  "orig_nbformat": 4
 },
 "nbformat": 4,
 "nbformat_minor": 2
}
