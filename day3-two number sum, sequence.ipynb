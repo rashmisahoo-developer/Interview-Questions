{
 "cells": [
  {
   "cell_type": "markdown",
   "metadata": {},
   "source": [
    "<h1>Two number sum</h1>"
   ]
  },
  {
   "cell_type": "code",
   "execution_count": 2,
   "metadata": {},
   "outputs": [
    {
     "data": {
      "text/plain": [
       "[(1, 3), (1, 5), (2, 6), (3, 7), (5, 7)]"
      ]
     },
     "execution_count": 2,
     "metadata": {},
     "output_type": "execute_result"
    }
   ],
   "source": [
    "def getPairsCount(arr,n,k):\n",
    "        # code here\n",
    "        pairs=[]\n",
    "        for i in range(n):\n",
    "            for j in range(i+1,n):\n",
    "                if arr[i]+arr[j]==k:\n",
    "                    pairs.append((i,j))\n",
    "        return pairs\n",
    "getPairsCount([1,2,3,4,6,4,3,2],8,6)\n",
    "#tc=O(n^2)"
   ]
  },
  {
   "cell_type": "code",
   "execution_count": 17,
   "metadata": {},
   "outputs": [
    {
     "data": {
      "text/plain": [
       "[(3, 1), (5, 1), (6, 2), (7, 5)]"
      ]
     },
     "execution_count": 17,
     "metadata": {},
     "output_type": "execute_result"
    }
   ],
   "source": [
    "def getPairCount(arr,target):\n",
    "    map_dict={}\n",
    "    pairs=[]\n",
    "    for i in range(len(arr)):\n",
    "        if target-arr[i] in map_dict:\n",
    "            pairs.append((i,map_dict[target-arr[i]]))\n",
    "        map_dict[arr[i]]=i\n",
    "    return pairs\n",
    "getPairCount([1,2,3,4,6,4,3,2],6)\n",
    "#tc=O(n)"
   ]
  },
  {
   "cell_type": "markdown",
   "metadata": {},
   "source": [
    "<h1>Valid Subsequence</h1>"
   ]
  },
  {
   "cell_type": "code",
   "execution_count": 27,
   "metadata": {},
   "outputs": [
    {
     "name": "stdout",
     "output_type": "stream",
     "text": [
      "Valid subsequence\n",
      "Invalid subsequence\n"
     ]
    }
   ],
   "source": [
    "def isValidSubsequence(str1,str2):\n",
    "    count=0\n",
    "    if(len(str1)<len(str2)):\n",
    "        for i in str1:\n",
    "             if i in str2:\n",
    "                 count+=1\n",
    "    else:\n",
    "        for i in str2:\n",
    "              if i in str1:\n",
    "                 count+=1\n",
    "    if(count==len(str1)) or (count==len(str2)):\n",
    "        return \"Valid subsequence\"\n",
    "    else:\n",
    "        return \"Invalid subsequence\"\n",
    "    \n",
    "print(isValidSubsequence(\"abx\",\"afjfbkfmx\"))\n",
    "print(isValidSubsequence(\"ghb\",\"djwhndwed\"))"
   ]
  }
 ],
 "metadata": {
  "interpreter": {
   "hash": "27370861859459cc3c5e32c9e2dc0d045b42d9dd1d29e25ced1db4516fdee47b"
  },
  "kernelspec": {
   "display_name": "Python 3.9.10 64-bit",
   "language": "python",
   "name": "python3"
  },
  "language_info": {
   "codemirror_mode": {
    "name": "ipython",
    "version": 3
   },
   "file_extension": ".py",
   "mimetype": "text/x-python",
   "name": "python",
   "nbconvert_exporter": "python",
   "pygments_lexer": "ipython3",
   "version": "3.9.10"
  },
  "orig_nbformat": 4
 },
 "nbformat": 4,
 "nbformat_minor": 2
}
