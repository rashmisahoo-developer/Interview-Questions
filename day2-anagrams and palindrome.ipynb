{
 "cells": [
  {
   "cell_type": "markdown",
   "metadata": {},
   "source": [
    "<h1>Valid Anagrams</h1>"
   ]
  },
  {
   "cell_type": "code",
   "execution_count": 2,
   "metadata": {},
   "outputs": [
    {
     "name": "stdout",
     "output_type": "stream",
     "text": [
      "Valid Anagram\n",
      "Invalid Anagram\n"
     ]
    }
   ],
   "source": [
    "def isAnagrams(str1,str2):\n",
    "    if sorted(str1)==sorted(str2):\n",
    "        return 'Valid Anagram'\n",
    "    else:\n",
    "        return 'Invalid Anagram'\n",
    "\n",
    "print(isAnagrams(\"car\",\"arc\"))\n",
    "print(isAnagrams(\"keep\",\"kry\"))\n",
    "#tc- O(nlogn)"
   ]
  },
  {
   "cell_type": "code",
   "execution_count": 5,
   "metadata": {},
   "outputs": [
    {
     "name": "stdout",
     "output_type": "stream",
     "text": [
      "Valid Anagram\n",
      "Invalid Anagram\n"
     ]
    }
   ],
   "source": [
    "def isAnagrams(str1,str2):\n",
    "    dict1={}\n",
    "    dict2={}\n",
    "    for i in str1:\n",
    "         if i in dict1:\n",
    "             dict1[i]=dict1[i]+1\n",
    "         else:\n",
    "             dict1[i]=1\n",
    "    for i in str2:\n",
    "         if i in dict2.keys():\n",
    "             dict2[i]+=1\n",
    "         else:\n",
    "             dict2[i]=1\n",
    "    if(dict1==dict2):\n",
    "        return 'Valid Anagram'\n",
    "    else:\n",
    "        return 'Invalid Anagram'\n",
    "\n",
    "print(isAnagrams(\"car\",\"arc\"))\n",
    "print(isAnagrams(\"keep\",\"kry\"))   \n",
    "#tc-O(n)     \n",
    "    "
   ]
  },
  {
   "cell_type": "markdown",
   "metadata": {},
   "source": [
    "<h1>Palindrome</h1>"
   ]
  },
  {
   "cell_type": "code",
   "execution_count": 18,
   "metadata": {},
   "outputs": [
    {
     "name": "stdout",
     "output_type": "stream",
     "text": [
      "It is Palindrome.\n",
      "It is not Palindrome.\n"
     ]
    }
   ],
   "source": [
    "def isPalindrome(str1):\n",
    "    str1=str1.lower()\n",
    "    reversed_str=\"\"\n",
    "    for i in reversed(range(len(str1))):\n",
    "        reversed_str+=str1[i]\n",
    "    if str1==reversed_str:\n",
    "        return 'It is Palindrome.'\n",
    "    else:\n",
    "        return 'It is not Palindrome.'\n",
    "    \n",
    "print(isPalindrome('Madam'))\n",
    "print(isPalindrome('Mdam'))\n",
    "#tc- O(n^2)"
   ]
  },
  {
   "cell_type": "code",
   "execution_count": 17,
   "metadata": {},
   "outputs": [
    {
     "name": "stdout",
     "output_type": "stream",
     "text": [
      "It is Palindrome\n",
      "It is not Palindrome.\n"
     ]
    }
   ],
   "source": [
    "def isPalindrome(str1):\n",
    "    str1=str1.lower()\n",
    "    reversed_str=str1[::-1]\n",
    "    if reversed_str==str1:\n",
    "        return 'It is Palindrome'\n",
    "    else:\n",
    "        return 'It is not Palindrome.'\n",
    "    \n",
    "print(isPalindrome('Madam'))\n",
    "print(isPalindrome('Mdam'))\n",
    "#tc=O(n)\n"
   ]
  },
  {
   "cell_type": "code",
   "execution_count": null,
   "metadata": {},
   "outputs": [],
   "source": []
  }
 ],
 "metadata": {
  "interpreter": {
   "hash": "27370861859459cc3c5e32c9e2dc0d045b42d9dd1d29e25ced1db4516fdee47b"
  },
  "kernelspec": {
   "display_name": "Python 3.9.10 64-bit",
   "language": "python",
   "name": "python3"
  },
  "language_info": {
   "codemirror_mode": {
    "name": "ipython",
    "version": 3
   },
   "file_extension": ".py",
   "mimetype": "text/x-python",
   "name": "python",
   "nbconvert_exporter": "python",
   "pygments_lexer": "ipython3",
   "version": "3.9.10"
  },
  "orig_nbformat": 4
 },
 "nbformat": 4,
 "nbformat_minor": 2
}
