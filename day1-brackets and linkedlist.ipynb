{
 "cells": [
  {
   "cell_type": "code",
   "execution_count": 3,
   "metadata": {},
   "outputs": [
    {
     "data": {
      "text/plain": [
       "True"
      ]
     },
     "execution_count": 3,
     "metadata": {},
     "output_type": "execute_result"
    }
   ],
   "source": [
    "def is_PairedBrackets(str):\n",
    "  map_str={'[':']','{':'}','(':')'}\n",
    "  str1=[]\n",
    "  for i in str:\n",
    "    if i in map_str:\n",
    "      str1.append(i)\n",
    "    else:\n",
    "      if(not str1 or map_str[str1.pop()]!=i):\n",
    "        return False\n",
    "  return not str1\n",
    "\n",
    "is_PairedBrackets(\"{[]}\")"
   ]
  },
  {
   "cell_type": "code",
   "execution_count": 25,
   "metadata": {},
   "outputs": [
    {
     "name": "stdout",
     "output_type": "stream",
     "text": [
      "11-->22-->1-->2-->15-->3-->None\n"
     ]
    }
   ],
   "source": [
    "class Node:\n",
    "    def __init__(self,data):\n",
    "        self.data=data\n",
    "        self.next=None\n",
    "\n",
    "class LinkedList:\n",
    "  def __init__(self):\n",
    "        self.head=None\n",
    "\n",
    "  def insert_at_end(self,data):\n",
    "    new_node=Node(data)\n",
    "    if(self.head):\n",
    "      current=self.head\n",
    "      while(current.next):\n",
    "        current=current.next\n",
    "      current.next=new_node\n",
    "    else:\n",
    "      self.head=new_node\n",
    "  \n",
    "  def insert_at_start(self,data):\n",
    "    new_node=Node(data)\n",
    "    if self.head is None:\n",
    "        self.head=new_node\n",
    "    else:\n",
    "       new_node.next=self.head\n",
    "       self.head=new_node\n",
    "\n",
    "  def insert_at_position(self,data,pos):\n",
    "    new_node=Node(data)\n",
    "    if pos<1:\n",
    "      print(\"Invalid position\")\n",
    "    elif  pos==1:\n",
    "        new_node.next=self.head\n",
    "        self.head=new_node\n",
    "    else:\n",
    "        current=self.head\n",
    "        for i in range(1,pos-1):\n",
    "            if current!=None:\n",
    "                current=current.next\n",
    "        if current!=None:\n",
    "            new_node.next=current.next\n",
    "            current.next=new_node\n",
    "        else:\n",
    "            print(\"Previous node is null.\")\n",
    "\n",
    "  def delete_at_start(self):\n",
    "      if self.head is None:\n",
    "          print(\"There are no nodes present.\")\n",
    "      else:\n",
    "          current=self.head\n",
    "          self.head.data=current.next.data\n",
    "          current.next=current.next.next\n",
    "          \n",
    "  # def delete_at_end(self):\n",
    "  #    if self.head is None:\n",
    "  #         print(\"There are no nodes present.\")\n",
    "  #     else:\n",
    "  #         current=self.head\n",
    "  #         while(current!=None):\n",
    "  #             previous=current\n",
    "  #             current=current.next\n",
    "            \n",
    "  #         previous=None\n",
    "          \n",
    "          \n",
    "\n",
    "        \n",
    "  def print_linked_list(self):\n",
    "    if self.head is None:\n",
    "      print(\"No element found.\")\n",
    "    else:\n",
    "      current = self.head\n",
    "      while(current.next):\n",
    "        print(current.data,end=\"-->\")\n",
    "        current=current.next\n",
    "      print(\"None\")\n",
    "\n",
    "\n",
    "ll=LinkedList()\n",
    "ll.insert_at_end(1)\n",
    "ll.insert_at_end(2)\n",
    "ll.insert_at_end(3)\n",
    "ll.insert_at_end(4)\n",
    "ll.insert_at_end(5)\n",
    "ll.insert_at_start(11)\n",
    "ll.insert_at_position(15,4)\n",
    "ll.insert_at_position(22,2)\n",
    "ll.delete_at_start()\n",
    "#ll.delete_at_end()\n",
    "ll.print_linked_list()\n"
   ]
  },
  {
   "cell_type": "code",
   "execution_count": null,
   "metadata": {},
   "outputs": [],
   "source": []
  },
  {
   "cell_type": "code",
   "execution_count": null,
   "metadata": {},
   "outputs": [],
   "source": []
  }
 ],
 "metadata": {
  "interpreter": {
   "hash": "27370861859459cc3c5e32c9e2dc0d045b42d9dd1d29e25ced1db4516fdee47b"
  },
  "kernelspec": {
   "display_name": "Python 3.9.10 64-bit",
   "language": "python",
   "name": "python3"
  },
  "language_info": {
   "codemirror_mode": {
    "name": "ipython",
    "version": 3
   },
   "file_extension": ".py",
   "mimetype": "text/x-python",
   "name": "python",
   "nbconvert_exporter": "python",
   "pygments_lexer": "ipython3",
   "version": "3.9.10"
  },
  "orig_nbformat": 4
 },
 "nbformat": 4,
 "nbformat_minor": 2
}
